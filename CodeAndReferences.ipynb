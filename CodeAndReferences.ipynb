{
  "nbformat": 4,
  "nbformat_minor": 0,
  "metadata": {
    "colab": {
      "provenance": []
    },
    "kernelspec": {
      "name": "python3",
      "display_name": "Python 3"
    },
    "language_info": {
      "name": "python"
    }
  },
  "cells": [
    {
      "cell_type": "markdown",
      "source": [
        "# Poster supporting file\n",
        "Index:\n",
        "\n",
        "* Part 1: Methods\n",
        "* Part 2: References"
      ],
      "metadata": {
        "id": "A-nbY0ipdZjE"
      }
    },
    {
      "cell_type": "markdown",
      "source": [
        "# Part 1. Methods"
      ],
      "metadata": {
        "id": "EUT_L0rwDUCz"
      }
    },
    {
      "cell_type": "markdown",
      "source": [
        "# 1.  Alignment\n",
        "Alignment of chromosomes 4 with [minimap2](https://github.com/lh3/minimap2/).\n",
        "\n",
        "Variables:   \n",
        "CHR_SP1 = fasta file containing chromosome of species 1  \n",
        "CHR_SP2 = fasta file containing chromosome of species 2"
      ],
      "metadata": {
        "id": "J1exfrbBdsMS"
      }
    },
    {
      "cell_type": "code",
      "source": [
        "#!/bin/bash\n",
        " ~/Software/minimap2/minimap2 -ax asm5 -f 0.02 -t 4 --eqx CHR_SP1 CHR_SP2 | samtools sort -O BAM - > SP1_SP2.bam\n",
        " ~/Software/minimap2/minimap2 -ax asm5 -f 0.02 -t 4 --eqx CHR_SP2 CHR_SP3 | samtools sort -O BAM - > SP2_SP3.bam\n",
        "\n",
        "samtools index SP1_SP2.bam\n",
        "samtools index SP2_SP3.bam"
      ],
      "metadata": {
        "id": "noPog7iOdmXk"
      },
      "execution_count": null,
      "outputs": []
    },
    {
      "cell_type": "markdown",
      "source": [
        "# 2. Structural variant calling and synteny plot\n",
        "Used [Syri](https://github.com/schneebergerlab/syri) for structural variant calling using alignments, and [plotsr](https://github.com/schneebergerlab/plotsr) for constructing synteny plots.\n"
      ],
      "metadata": {
        "id": "nIXo6xX2eZ0_"
      }
    },
    {
      "cell_type": "code",
      "source": [
        "#!/bin/bash\n",
        "conda activate syri\n",
        "syri -c SP1_SP2.bam -r CHR_SP1 -q CHR_SP2 -F B -f --prefix SP1_SP2 --tdgaplen 5000000 --hdrseq  --all --allow-offset 100\n",
        "syri -c SP2_SP3.bam -r CHR_SP2 -q CHR_SP3 -F B -f --prefix SP2_SP3 --tdgaplen 5000000 --hdrseq  --all --allow-offset 100\n",
        "# produce synteny plots\n",
        "plotsr --sr SP1_SP2syri.out --sr SP2_SP3syri.out --genomes genomes.txt --tracks tracks.txt --markers markers.bed\n"
      ],
      "metadata": {
        "id": "ZInQsWezeesA"
      },
      "execution_count": null,
      "outputs": []
    },
    {
      "cell_type": "markdown",
      "source": [
        "# 3. Repeat discovery and annotation with RepeatModeler and RepeatMasker\n",
        "[RepeatModeler](https://github.com/Dfam-consortium/RepeatModeler) was run in usegalaxy.org using the complete genomes followed by clustering with cd-hit-est (following Goubert et al. 2022) to remove redundancy.  \n",
        "[RepeatMasker](https://github.com/rmhubley/RepeatMasker) was run locally to anotate repeats in chromosome 4. Together with RepeatMasker Util's script (RM2BED.py) to generate bed files without redundancy."
      ],
      "metadata": {
        "id": "fa0Njaa2e83q"
      }
    },
    {
      "cell_type": "code",
      "source": [
        "#!/bin/bash\n",
        "RepeatMasker -lib SP1-families_clustered.fasta CHR_SP1 -s -a -pa 8\n",
        "#produce bed file with repeat annotations\n",
        "python RM2BED.py -o \"longer_element\" CHR_SP1.out -dmax 20 -m 100\n"
      ],
      "metadata": {
        "id": "WmFzMitwfTxb"
      },
      "execution_count": null,
      "outputs": []
    },
    {
      "cell_type": "markdown",
      "source": [
        "Plot repeat content after manual compilation of results in *.tbl output"
      ],
      "metadata": {
        "id": "cHrlFz8B9Lfl"
      }
    },
    {
      "cell_type": "code",
      "source": [
        "import pandas as pd\n",
        "import seaborn as sns\n",
        "import matplotlib.pyplot as plt\n",
        "\n",
        "df = pd.read_csv(\"all_table.tsv\", sep=\"\\t\")\n",
        "df=df.loc[:,[\"TOTAL\",\"UNCLASSIFIED\",\"DNA\",\"LINES\",\"LTR\",\"SPECIES\",\"SIMPLE_REPEATS\",\"OTHERS (<1%)\"]]\n",
        "df=df.melt([\"SPECIES\"])\n",
        "pallete=[\"#785EF0\",\"#648FFF\",\"#FE6100\"]\n",
        "fig, ax= plt.subplots(1, figsize=(10,3))\n",
        "barplot=sns.barplot(x=df[\"variable\"], y=df.value, hue=df[\"SPECIES\"], palette=pallete, saturation=1)\n",
        "plt.xticks(rotation=45)\n",
        "barplot.spines[\"top\"].set_visible(False)\n",
        "barplot.spines[\"right\"].set_visible(False)\n",
        "barplot.set_ylabel(\"Genome proportion (%)\")\n",
        "barplot.set_xlabel(\"Repeat Class\")\n",
        "plt.savefig(\"repeats.svg\", dpi=300)"
      ],
      "metadata": {
        "id": "DqN1tuuY9PX7"
      },
      "execution_count": null,
      "outputs": []
    },
    {
      "cell_type": "markdown",
      "source": [
        "# 4. Centromere analysis\n"
      ],
      "metadata": {
        "id": "wTWpUdZkf8dq"
      }
    },
    {
      "cell_type": "markdown",
      "source": [
        "## 4.1. Detection of putative location of centromere\n",
        "Used [Nessie](https://github.com/B3rse/nessie) for the calculation of linguistic complexity and entropy for each chromosome (separatelly), in window size = 10000, in steps = 1000.\n",
        "This is followed by a graphical analysis to detect decreases in complexity and entropy, and extraction of centromeres by manually searching the output file.\n",
        "\n",
        "A custom script was used for plotting."
      ],
      "metadata": {
        "id": "8rni2tiagfwP"
      }
    },
    {
      "cell_type": "code",
      "source": [
        "#!/bin/bash\n",
        "for file in *.fa; do nessie -I $file -O $file'_complexity.tsv' -L -l 10000 -s 1000; done\n",
        "for file in *.fa; do nessie -I $file -O $file'_entropy.tsv' -E -l 10000 -s 1000; done"
      ],
      "metadata": {
        "id": "RJ7MtLZpgpTR"
      },
      "execution_count": null,
      "outputs": []
    },
    {
      "cell_type": "code",
      "source": [
        "# to graph in python:\n",
        "import pandas as pd\n",
        "import seaborn as sns\n",
        "from matplotlib import pyplot as plt\n",
        "import numpy as np\n",
        "sns.set_theme()\n",
        "\n",
        "df_e = pd.read_csv(\"complexity.txt\", sep=\"\\t\", skiprows=3, header=None)\n",
        "df_c = pd.read_csv(\"entropy.txt\", sep=\"\\t\", skiprows=3, header=None)\n",
        "\n",
        "fig, ax = plt.subplots(2,1)\n",
        "complexity = sns.scatterplot(x=df_c.index, y=df_c[1], ax=ax[0], s=1)\n",
        "entropy = sns.scatterplot(x=df_e.index, y=df_e[1], ax=ax[1], s=1)"
      ],
      "metadata": {
        "id": "-LGGe3Rnha1l"
      },
      "execution_count": null,
      "outputs": []
    },
    {
      "cell_type": "code",
      "source": [
        "#!/bin/bash\n",
        "# extract a centromeric fasta\n",
        "seqkit subseq --bed CHR_SP_centromere.bed CHR_SP.fa"
      ],
      "metadata": {
        "id": "YIYvNdGWhkWU"
      },
      "execution_count": null,
      "outputs": []
    },
    {
      "cell_type": "markdown",
      "source": [
        "## 4.2. Use NTRprism to detect repetitive profiles of centromeric regions\n",
        "Used [NTRprism](https://github.com/altemose/NTRprism) to obtain the Nested Tandem Repeat (NTR) \"spectrum\" indicates the most abundant tandem repeat periodicities found in an input DNA sequence.\n",
        "\n",
        "\n",
        "The first plot was produced to detect the repeat lenght distribution in a large scale. Then, a second, third, etc, plot were produced to zoom on the part of the distribution where the most frequent repeat lenght periodicity is found.\n",
        "\n",
        "Periodicity is usefull to predict the structure in which tandem repeats are organized (as monomers or High Order Repeats)."
      ],
      "metadata": {
        "id": "U4L7hJXghtRQ"
      }
    },
    {
      "cell_type": "code",
      "source": [
        "#!/bin/bash\n",
        "perl NTRprism_ProcessFasta_v0.22.pl CHR_SP output_folder 1 3000 30 6 0\n",
        "perl NTRprism_ProcessFasta_v0.22.pl CHR_SP output_folder 100 3000 30 6 0\n",
        "\n",
        "# Produce Heatmap\n",
        "for i in *.bin100.txt;do \tj=$(perl -lae 'if(m/region_(.+)\\.span/){print \"$1\"}' <(echo $i)); \tRscript ~/Software/NTRprism/NTRprism_PlotHeatmap.r --args $i $j 30000 100 NTRprism_Plot; done\n",
        "for i in *.bin100.txt;do \tj=$(perl -lae 'if(m/region_(.+)\\.span/){print \"$1\"}' <(echo $i)); \tRscript ~/Software/NTRprism/NTRprism_PlotHeatmap.r --args $i $j 5000 100 NTRprism_Plot; done\n",
        "for i in *.bin100.txt;do \tj=$(perl -lae 'if(m/region_(.+)\\.span/){print \"$1\"}' <(echo $i)); \tRscript ~/Software/NTRprism/NTRprism_PlotHeatmap.r --args $i $j 500 100 NTRprism_Plot; done\n",
        "\n",
        "\n",
        "# Produce Spectral plots\n",
        "for i in *.bin1.txt;do    j=$(perl -lae 'if(m/region_(.+)\\.span/){print \"$1\"}' <(echo $i))\n",
        "        Rscript ~/Software/NTRprism/NTRprism_PlotSpectrum.r --args $i $j 30000 NTRprism_Plot; done\n",
        "for i in *.bin1.txt;do    j=$(perl -lae 'if(m/region_(.+)\\.span/){print \"$1\"}' <(echo $i))\n",
        "        Rscript ~/Software/NTRprism/NTRprism_PlotSpectrum.r --args $i $j 5000 NTRprism_Plot; done\n",
        "for i in *.bin1.txt;do    j=$(perl -lae 'if(m/region_(.+)\\.span/){print \"$1\"}' <(echo $i))\n",
        "        Rscript ~/Software/NTRprism/NTRprism_PlotSpectrum.r --args $i $j 500 NTRprism_Plot; done\n"
      ],
      "metadata": {
        "id": "ItEoazpciMtR"
      },
      "execution_count": null,
      "outputs": []
    },
    {
      "cell_type": "markdown",
      "source": [
        "## 4.3. Predic monomeric sequences\n",
        "[Tandem Repeat Finder ](https://tandem.bu.edu/trf) was run to recover monomer sequences of tandem repeats and then select the most abundant monomers. Manually compared to the to lenght profiles of NTRprism output."
      ],
      "metadata": {
        "id": "DZSPBK5ypVdY"
      }
    },
    {
      "cell_type": "code",
      "source": [
        "#!/bin/bash\n",
        "~/Software/repeatmasker/trf AcitC1_centromere.fasta 2 7 7 80 10 50 400 -dq\n"
      ],
      "metadata": {
        "id": "PLGQY4ZSpo_E"
      },
      "execution_count": null,
      "outputs": []
    },
    {
      "cell_type": "markdown",
      "source": [
        "# 5. Prediction of Actinopterygii single copy orthologs\n",
        "Using [BUSCO](https://busco.ezlab.org/) and Actinopterygii database version 10."
      ],
      "metadata": {
        "id": "kZAGhi9r8JdD"
      }
    },
    {
      "cell_type": "code",
      "source": [
        "#!/bin/bash\n",
        "busco -i Genome.fa -l /home/ferro/PROGRAMAS/BUSCO_DB/actinopterygii_odb10 -o BUSCO_output -m genome -c 10\n",
        "\n",
        "# Get Chr 4 genes\n",
        "grep \"Chr4\" BUSCO_output/run_actinopterygii_odb10/full_table.tsv > Chr4_table.tsv\n"
      ],
      "metadata": {
        "id": "ifShcaSs8uKv"
      },
      "execution_count": null,
      "outputs": []
    },
    {
      "cell_type": "markdown",
      "source": [
        "# Part 2. References."
      ],
      "metadata": {
        "id": "_-hH4jC2Dc0E"
      }
    },
    {
      "cell_type": "markdown",
      "source": [
        "(not included in the previous sections)\n",
        "\n",
        "**Methods**  \n",
        "Centromere Analysis\n",
        "*   Brekke, T. D., Papadopulos, A. S. T., Julià, E., Fornas, O., Fu, B., Yang, F., de la Fuente, R., Page, J., Baril, T., Hayward, A., & Mulley, J. F. (2023). A New Chromosome-Assigned Mongolian Gerbil Genome Allows Characterization of Complete Centromeres and a Fully Heterochromatic Chromosome. Molecular Biology and Evolution, 40(5), msad115. https://doi.org/10.1093/molbev/msad115\n",
        "\n",
        "*   Altemose, N. (2022). A classical revival: Human satellite DNAs enter the genomics era. In Seminars in Cell & Developmental Biology (Vol. 128, pp. 2-14). Academic Press.\n",
        "\n",
        "Repeat content\n",
        "*   Goubert, C., Craig, R. J., Bilat, A. F., Peona, V., Vogan, A. A., & Protasio, A. V. (2022). A beginner’s guide to manual curation of transposable elements. Mobile DNA, 13(1), 7. https://doi.org/10.1186/s13100-021-00259-7\n",
        "\n",
        "\n",
        "**Introduction**\n",
        "\n",
        "\n",
        "*   Salzburger, W. (2018). Understanding explosive diversification through cichlid fish genomics. Nature Reviews Genetics, 19(11), 705-717.https://doi.org/10.1038/s41576-018-0043-9\n",
        "\n",
        "*   Feldberg, E., Porto, J. I. R., & Bertollo, L. A. C. (2003). Chromosomal changes and adaptation of cichlid fishes during evolution. Fish adaptations, 285, 308.\n",
        "*   Conte, M. A., Joshi, R., Moore, E. C., Nandamuri, S. P., Gammerdinger, W. J., Roberts, R. B., ... & Kocher, T. D. (2019). Chromosome-scale assemblies reveal the structural evolution of African cichlid genomes. Gigascience, 8(4), giz030.  https://doi.org/10.1093/gigascience/giz030\n",
        "\n",
        "\n"
      ],
      "metadata": {
        "id": "P6BZJ__x-Y0t"
      }
    }
  ]
}